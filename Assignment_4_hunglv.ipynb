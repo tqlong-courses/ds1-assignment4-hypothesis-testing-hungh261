{
  "nbformat": 4,
  "nbformat_minor": 0,
  "metadata": {
    "colab": {
      "name": "Assignment 4 hunglv.ipynb",
      "version": "0.3.2",
      "provenance": [],
      "collapsed_sections": []
    },
    "kernelspec": {
      "display_name": "Python 3",
      "language": "python",
      "name": "python3"
    }
  },
  "cells": [
    {
      "metadata": {
        "id": "zp7IvDkWfczV",
        "colab_type": "text"
      },
      "cell_type": "markdown",
      "source": [
        "---\n",
        "\n",
        "_You are currently looking at **version 1.1** of this notebook. To download notebooks and datafiles, as well as get help on Jupyter notebooks in the Coursera platform, visit the [Jupyter Notebook FAQ](https://www.coursera.org/learn/python-data-analysis/resources/0dhYG) course resource._\n",
        "\n",
        "---"
      ]
    },
    {
      "metadata": {
        "id": "MDkdA7EBfczW",
        "colab_type": "code",
        "outputId": "8d86d0eb-56c3-40a3-ae4e-01e3a3129b31",
        "colab": {
          "base_uri": "https://localhost:8080/",
          "height": 102
        }
      },
      "cell_type": "code",
      "source": [
        "import pandas as pd\n",
        "import numpy as np\n",
        "from scipy.stats import ttest_ind\n",
        "!pip install xlrd"
      ],
      "execution_count": 5,
      "outputs": [
        {
          "output_type": "stream",
          "text": [
            "Collecting xlrd\n",
            "\u001b[?25l  Downloading https://files.pythonhosted.org/packages/07/e6/e95c4eec6221bfd8528bcc4ea252a850bffcc4be88ebc367e23a1a84b0bb/xlrd-1.1.0-py2.py3-none-any.whl (108kB)\n",
            "\u001b[K    100% |████████████████████████████████| 112kB 2.8MB/s \n",
            "\u001b[?25hInstalling collected packages: xlrd\n",
            "Successfully installed xlrd-1.1.0\n"
          ],
          "name": "stdout"
        }
      ]
    },
    {
      "metadata": {
        "id": "FGq9bihIfczb",
        "colab_type": "text"
      },
      "cell_type": "markdown",
      "source": [
        "# Assignment 4 - Hypothesis Testing\n",
        "This assignment requires more individual learning than previous assignments - you are encouraged to check out the [pandas documentation](http://pandas.pydata.org/pandas-docs/stable/) to find functions or methods you might not have used yet, or ask questions on [Stack Overflow](http://stackoverflow.com/) and tag them as pandas and python related. And of course, the discussion forums are open for interaction with your peers and the course staff.\n",
        "\n",
        "Definitions:\n",
        "* A _quarter_ is a specific three month period, Q1 is January through March, Q2 is April through June, Q3 is July through September, Q4 is October through December.\n",
        "* A _recession_ is defined as starting with two consecutive quarters of GDP decline, and ending with two consecutive quarters of GDP growth.\n",
        "* A _recession bottom_ is the quarter within a recession which had the lowest GDP.\n",
        "* A _university town_ is a city which has a high percentage of university students compared to the total population of the city.\n",
        "\n",
        "**Hypothesis**: University towns have their mean housing prices less effected by recessions. Run a t-test to compare the ratio of the mean price of houses in university towns the quarter before the recession starts compared to the recession bottom. (`price_ratio=quarter_before_recession/recession_bottom`)\n",
        "\n",
        "The following data files are available for this assignment:\n",
        "* From the [Zillow research data site](http://www.zillow.com/research/data/) there is housing data for the United States. In particular the datafile for [all homes at a city level](http://files.zillowstatic.com/research/public/City/City_Zhvi_AllHomes.csv), ```City_Zhvi_AllHomes.csv```, has median home sale prices at a fine grained level.\n",
        "* From the Wikipedia page on college towns is a list of [university towns in the United States](https://en.wikipedia.org/wiki/List_of_college_towns#College_towns_in_the_United_States) which has been copy and pasted into the file ```university_towns.txt```.\n",
        "* From Bureau of Economic Analysis, US Department of Commerce, the [GDP over time](http://www.bea.gov/national/index.htm#gdp) of the United States in current dollars (use the chained value in 2009 dollars), in quarterly intervals, in the file ```gdplev.xls```. For this assignment, only look at GDP data from the first quarter of 2000 onward.\n",
        "\n",
        "Each function in this assignment below is worth 10%, with the exception of ```run_ttest()```, which is worth 50%."
      ]
    },
    {
      "metadata": {
        "id": "2RxZjpxcfczc",
        "colab_type": "code",
        "colab": {}
      },
      "cell_type": "code",
      "source": [
        "# Use this dictionary to map state names to two letter acronyms\n",
        "states = {'OH': 'Ohio', 'KY': 'Kentucky', 'AS': 'American Samoa', 'NV': 'Nevada', 'WY': 'Wyoming', 'NA': 'National', 'AL': 'Alabama', 'MD': 'Maryland', 'AK': 'Alaska', 'UT': 'Utah', 'OR': 'Oregon', 'MT': 'Montana', 'IL': 'Illinois', 'TN': 'Tennessee', 'DC': 'District of Columbia', 'VT': 'Vermont', 'ID': 'Idaho', 'AR': 'Arkansas', 'ME': 'Maine', 'WA': 'Washington', 'HI': 'Hawaii', 'WI': 'Wisconsin', 'MI': 'Michigan', 'IN': 'Indiana', 'NJ': 'New Jersey', 'AZ': 'Arizona', 'GU': 'Guam', 'MS': 'Mississippi', 'PR': 'Puerto Rico', 'NC': 'North Carolina', 'TX': 'Texas', 'SD': 'South Dakota', 'MP': 'Northern Mariana Islands', 'IA': 'Iowa', 'MO': 'Missouri', 'CT': 'Connecticut', 'WV': 'West Virginia', 'SC': 'South Carolina', 'LA': 'Louisiana', 'KS': 'Kansas', 'NY': 'New York', 'NE': 'Nebraska', 'OK': 'Oklahoma', 'FL': 'Florida', 'CA': 'California', 'CO': 'Colorado', 'PA': 'Pennsylvania', 'DE': 'Delaware', 'NM': 'New Mexico', 'RI': 'Rhode Island', 'MN': 'Minnesota', 'VI': 'Virgin Islands', 'NH': 'New Hampshire', 'MA': 'Massachusetts', 'GA': 'Georgia', 'ND': 'North Dakota', 'VA': 'Virginia'}"
      ],
      "execution_count": 0,
      "outputs": []
    },
    {
      "metadata": {
        "id": "mI7b7c8EfhRQ",
        "colab_type": "code",
        "outputId": "335a1474-c792-4720-cc60-9142229b99f8",
        "colab": {
          "base_uri": "https://localhost:8080/",
          "height": 122
        }
      },
      "cell_type": "code",
      "source": [
        "from google.colab import drive\n",
        "drive.mount('/data')"
      ],
      "execution_count": 1,
      "outputs": [
        {
          "output_type": "stream",
          "text": [
            "Go to this URL in a browser: https://accounts.google.com/o/oauth2/auth?client_id=947318989803-6bn6qk8qdgf4n4g3pfee6491hc0brc4i.apps.googleusercontent.com&redirect_uri=urn%3Aietf%3Awg%3Aoauth%3A2.0%3Aoob&scope=email%20https%3A%2F%2Fwww.googleapis.com%2Fauth%2Fdocs.test%20https%3A%2F%2Fwww.googleapis.com%2Fauth%2Fdrive%20https%3A%2F%2Fwww.googleapis.com%2Fauth%2Fdrive.photos.readonly%20https%3A%2F%2Fwww.googleapis.com%2Fauth%2Fpeopleapi.readonly&response_type=code\n",
            "\n",
            "Enter your authorization code:\n",
            "··········\n",
            "Mounted at /data\n"
          ],
          "name": "stdout"
        }
      ]
    },
    {
      "metadata": {
        "id": "USIRTccgfxpw",
        "colab_type": "code",
        "colab": {}
      },
      "cell_type": "code",
      "source": [
        "import pandas as pd\n",
        "from pathlib import Path as path\n",
        "file_folder = path('/data/My Drive/DS1/data')\n",
        "statesT = dict((value,key) for key,value in states.items())\n",
        "def prettify_state(input) :\n",
        "    pos = input.find('[edit]')\n",
        "    if pos >= 0:\n",
        "        result = input[:pos]\n",
        "        if result in statesT:\n",
        "            result = statesT[result]\n",
        "        return result\n",
        "    return None\n",
        "def prettify_region(input) :\n",
        "    pos = input.find(' (')\n",
        "    if pos >= 0:\n",
        "        result = input[:pos]\n",
        "        return result\n",
        "    return input\n",
        "\n",
        "def read_file():\n",
        "    open_filePath = file_folder / 'university_towns.txt'\n",
        "    with open(open_filePath) as file:\n",
        "        content = file.readlines()\n",
        "    content =  [x.strip() for x in content]\n",
        "\n",
        "    result = []\n",
        "    current_state = None\n",
        "    for line in content:\n",
        "        next_state = prettify_state(line)\n",
        "        if next_state != None:\n",
        "            current_state = next_state\n",
        "            continue\n",
        "        region = prettify_region(line)\n",
        "        result.append([current_state , region])            \n",
        "    return result\n",
        "\n",
        "def read_gdp():\n",
        "    open_filePath = file_folder / \"gdplev.xls\"\n",
        "    gdp = pd.read_excel(open_filePath,names = [\"Quarter\", \"GDP\"],usecols = \"E,F\", skiprows=220)\n",
        "    return gdp\n",
        "\n",
        "def find_recession():\n",
        "    gdplev = read_gdp()\n",
        "    recession_start_index = None\n",
        "    recession_end_index = None\n",
        "    for index in range(2, len(gdplev) - 2):\n",
        "        if (recession_start_index == None and (gdplev.iloc[index-2][1] > gdplev.iloc[index-1][1]) and (gdplev.iloc[index-1][1] > gdplev.iloc[index][1])):\n",
        "            recession_start_index = index - 2\n",
        "            continue\n",
        "        if recession_start_index != None and (gdplev.iloc[index+2][1] > gdplev.iloc[index+1][1]) and (gdplev.iloc[index+1][1] > gdplev.iloc[index][1]):\n",
        "            recession_end_index = index + 2\n",
        "            return gdplev[recession_start_index:recession_end_index + 1]"
      ],
      "execution_count": 0,
      "outputs": []
    },
    {
      "metadata": {
        "id": "IovpSblefczg",
        "colab_type": "code",
        "outputId": "4ec6d8f4-31b6-47e8-b3dd-5411c535dd88",
        "colab": {
          "base_uri": "https://localhost:8080/",
          "height": 122
        }
      },
      "cell_type": "code",
      "source": [
        "def get_list_of_university_towns():\n",
        "    '''Returns a DataFrame of towns and the states they are in from the \n",
        "    university_towns.txt list. The format of the DataFrame should be:\n",
        "    DataFrame( [ [\"Michigan\", \"Ann Arbor\"], [\"Michigan\", \"Yipsilanti\"] ], \n",
        "    columns=[\"State\", \"RegionName\"]  )\n",
        "    \n",
        "    The following cleaning needs to be done:\n",
        "\n",
        "    1. For \"State\", removing characters from \"[\" to the end.\n",
        "    2. For \"RegionName\", when applicable, removing every character from \" (\" to the end.\n",
        "    3. Depending on how you read the data, you may need to remove newline character '\\n'. '''\n",
        "    data = read_file()\n",
        "    df = pd.DataFrame(data,columns=[\"State\", \"RegionName\"])\n",
        "    df.set_index([\"State\", \"RegionName\"], inplace=True)\n",
        "    return df\n",
        "print(get_list_of_university_towns())"
      ],
      "execution_count": 15,
      "outputs": [
        {
          "output_type": "stream",
          "text": [
            "Empty DataFrame\n",
            "Columns: []\n",
            "Index: [(AL, Auburn), (AL, Florence), (AL, Jacksonville), (AL, Livingston), (AL, Montevallo), (AL, Troy), (AL, Tuscaloosa), (AL, Tuskegee), (AK, Fairbanks), (AZ, Flagstaff), (AZ, Tempe), (AZ, Tucson), (AR, Arkadelphia), (AR, Conway), (AR, Fayetteville), (AR, Jonesboro), (AR, Magnolia), (AR, Monticello), (AR, Russellville), (AR, Searcy), (CA, Angwin), (CA, Arcata), (CA, Berkeley), (CA, Chico), (CA, Claremont), (CA, Cotati), (CA, Davis), (CA, Irvine), (CA, Isla Vista), (CA, University Park, Los Angeles), (CA, Merced), (CA, Orange), (CA, Palo Alto), (CA, Pomona), (CA, Redlands), (CA, Riverside), (CA, Sacramento), (CA, University District, San Bernardino), (CA, San Diego), (CA, San Luis Obispo), (CA, Santa Barbara), (CA, Santa Cruz), (CA, Turlock), (CA, Westwood, Los Angeles), (CA, Whittier), (CO, Alamosa), (CO, Boulder), (CO, Durango), (CO, Fort Collins), (CO, Golden), (CO, Grand Junction), (CO, Greeley), (CO, Gunnison), (CO, Pueblo, Colorado), (CT, Fairfield), (CT, Middletown), (CT, New Britain), (CT, New Haven), (CT, New London), (CT, Storrs), (CT, Willimantic), (DE, Dover), (DE, Newark), (FL, Ave Maria), (FL, Boca Raton), (FL, Coral Gables), (FL, DeLand), (FL, Estero), (FL, Gainesville), (FL, Orlando), (FL, Sarasota), (FL, St. Augustine), (FL, St. Leo), (FL, Tallahassee), (FL, Tampa), (GA, Albany), (GA, Athens), (GA, Atlanta), (GA, Carrollton), (GA, Demorest), (GA, Fort Valley), (GA, Kennesaw), (GA, Milledgeville), (GA, Mount Vernon), (GA, Oxford), (GA, Rome), (GA, Savannah), (GA, Statesboro), (GA, Valdosta), (GA, Waleska), (GA, Young Harris), (HI, Manoa), (ID, Moscow), (ID, Pocatello), (ID, Rexburg), (IL, Carbondale), (IL, Champaign–Urbana), (IL, Charleston), (IL, DeKalb), (IL, Edwardsville), ...]\n",
            "\n",
            "[517 rows x 0 columns]\n"
          ],
          "name": "stdout"
        }
      ]
    },
    {
      "metadata": {
        "id": "__5Ru1fCfczj",
        "colab_type": "code",
        "outputId": "fc68c196-735d-4ff4-eede-ac6922f01e77",
        "colab": {
          "base_uri": "https://localhost:8080/",
          "height": 34
        }
      },
      "cell_type": "code",
      "source": [
        "def get_recession_start():\n",
        "    '''Returns the year and quarter of the recession start time as a \n",
        "    string value in a format such as 2005q3'''\n",
        "    \n",
        "    gdplev = find_recession()\n",
        "    return gdplev.iloc[0][0]\n",
        "print(get_recession_start())"
      ],
      "execution_count": 6,
      "outputs": [
        {
          "output_type": "stream",
          "text": [
            "2008q3\n"
          ],
          "name": "stdout"
        }
      ]
    },
    {
      "metadata": {
        "id": "879GYp75fczo",
        "colab_type": "code",
        "outputId": "0fe79532-3dc7-4d3c-a41f-56240339fcd0",
        "colab": {
          "base_uri": "https://localhost:8080/",
          "height": 34
        }
      },
      "cell_type": "code",
      "source": [
        "def get_recession_end():\n",
        "    '''Returns the year and quarter of the recession end time as a \n",
        "    string value in a format such as 2005q3'''\n",
        "       \n",
        "    gdplev = find_recession()\n",
        "    return gdplev.iloc[len(gdplev) - 1][0]\n",
        "print(get_recession_end())"
      ],
      "execution_count": 7,
      "outputs": [
        {
          "output_type": "stream",
          "text": [
            "2009q4\n"
          ],
          "name": "stdout"
        }
      ]
    },
    {
      "metadata": {
        "id": "ZDbCe2p-fczt",
        "colab_type": "code",
        "outputId": "52dc1595-03c2-408d-b2c9-533a0758d361",
        "colab": {
          "base_uri": "https://localhost:8080/",
          "height": 34
        }
      },
      "cell_type": "code",
      "source": [
        "def get_recession_bottom():\n",
        "    '''Returns the year and quarter of the recession bottom time as a \n",
        "    string value in a format such as 2005q3'''\n",
        "    \n",
        "    gdplev = find_recession()\n",
        "    min_gdp_index = gdplev['GDP'].idxmin()\n",
        "    return gdplev.loc[min_gdp_index][0]\n",
        "print(get_recession_bottom())"
      ],
      "execution_count": 8,
      "outputs": [
        {
          "output_type": "stream",
          "text": [
            "2009q2\n"
          ],
          "name": "stdout"
        }
      ]
    },
    {
      "metadata": {
        "id": "s-q63CS8fczw",
        "colab_type": "code",
        "colab": {}
      },
      "cell_type": "code",
      "source": [
        "def convert_housing_data_to_quarters():\n",
        "    '''Converts the housing data to quarters and returns it as mean \n",
        "    values in a dataframe. This dataframe should be a dataframe with\n",
        "    columns for 2000q1 through 2016q3, and should have a multi-index\n",
        "    in the shape of [\"State\",\"RegionName\"].\n",
        "    \n",
        "    Note: Quarters are defined in the assignment description, they are\n",
        "    not arbitrary three month periods.\n",
        "    \n",
        "    The resulting dataframe should have 67 columns, and 10,730 rows.\n",
        "    '''\n",
        "    \n",
        "    open_file_path = file_folder / \"City_Zhvi_AllHomes.csv\"\n",
        "    cols1 = pd.date_range('2000-01', '2016-08', freq='M').strftime('%Y-%m')\n",
        "    df = pd.read_csv(open_file_path, usecols=lambda x: x in cols1)\n",
        "    df.columns = pd.to_datetime(df.columns)\n",
        "    df.resample('Q', axis=1).mean()\n",
        "    df = df.resample('Q', axis=1).mean()\n",
        "    df = df.rename(columns=lambda col: '{}q{}'.format(col.year, col.quarter))\n",
        "    cols2 = [\"State\", \"RegionName\"]\n",
        "    df2 = pd.read_csv(open_file_path, usecols=lambda x: x in cols2)\n",
        "    df = pd.concat([df2, df], join='inner', axis=1)\n",
        "    df.set_index([\"State\", \"RegionName\"], inplace=True)\n",
        "    return df\n",
        "\n",
        "print(convert_housing_data_to_quarters())"
      ],
      "execution_count": 0,
      "outputs": []
    },
    {
      "metadata": {
        "id": "CUTNtC9yfczz",
        "colab_type": "code",
        "outputId": "695f6eb4-9f70-437b-c4e0-9df71027f59e",
        "colab": {
          "base_uri": "https://localhost:8080/",
          "height": 34
        }
      },
      "cell_type": "code",
      "source": [
        "def run_ttest():\n",
        "    '''First creates new data showing the decline or growth of housing prices\n",
        "    between the recession start and the recession bottom. Then runs a ttest\n",
        "    comparing the university town values to the non-university towns values, \n",
        "    return whether the alternative hypothesis (that the two groups are the same)\n",
        "    is true or not as well as the p-value of the confidence. \n",
        "    \n",
        "    Return the tuple (different, p, better) where different=True if the t-test is\n",
        "    True at a p<0.01 (we reject the null hypothesis), or different=False if \n",
        "    otherwise (we cannot reject the null hypothesis). The variable p should\n",
        "    be equal to the exact p value returned from scipy.stats.ttest_ind(). The\n",
        "    value for better should be either \"university town\" or \"non-university town\"\n",
        "    depending on which has a lower mean price ratio (which is equivilent to a\n",
        "    reduced market loss).'''\n",
        "    house = convert_housing_data_to_quarters()\n",
        "    recession_start = get_recession_start()\n",
        "    recession_bottom = get_recession_bottom()\n",
        "    house = house.loc[:,recession_start:recession_bottom]\n",
        "    house['Price Ratio'] = house.apply(lambda row: (row[recession_start] - row[recession_bottom])/row[recession_start] ,axis=1)\n",
        "    house = house['Price Ratio'].dropna()\n",
        "    university_town = get_list_of_university_towns()\n",
        "    university_town_price = house[house.index.isin(university_town.index)].sort_index()\n",
        "    non_university_town_price = house[~house.index.isin(university_town.index)].sort_index()\n",
        "    test_result = ttest_ind(non_university_town_price, university_town_price)\n",
        "    \n",
        "    def better():\n",
        "        if non_university_town_price.mean() < university_town_price.mean():\n",
        "            return 'non-university town'\n",
        "        else:\n",
        "            return 'university town'\n",
        "    result = (True,test_result[1],better())\n",
        "    return result\n",
        "print(run_ttest())"
      ],
      "execution_count": 41,
      "outputs": [
        {
          "output_type": "stream",
          "text": [
            "(True, 0.008975587540712695, 'university town')\n"
          ],
          "name": "stdout"
        }
      ]
    }
  ]
}